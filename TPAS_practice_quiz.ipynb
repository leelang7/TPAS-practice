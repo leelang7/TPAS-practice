{
 "cells": [
  {
   "cell_type": "markdown",
   "metadata": {},
   "source": [
    "# Q1"
   ]
  },
  {
   "cell_type": "code",
   "execution_count": null,
   "metadata": {
    "vscode": {
     "languageId": "plaintext"
    }
   },
   "outputs": [],
   "source": [
    "# ! 함수 정의 \n",
    "def fac(n): \n",
    "    \n",
    "    \n",
    "    return \n",
    "    \n",
    "# 4! 계산\n",
    "print(fac(4))"
   ]
  },
  {
   "cell_type": "markdown",
   "metadata": {},
   "source": [
    "# Q2"
   ]
  },
  {
   "cell_type": "code",
   "execution_count": null,
   "metadata": {
    "vscode": {
     "languageId": "plaintext"
    }
   },
   "outputs": [],
   "source": [
    "from itertools import permutations \n",
    "from itertools import combinations\n",
    "\n",
    "# 순열 : 6명 수강생 중 2명에게 순위별 상품을 주는 경우의 수 \n",
    "rank_per = None\n",
    "rank_per_num = None\n",
    "\n",
    "print(rank_per)\n",
    "print(rank_per_num)"
   ]
  },
  {
   "cell_type": "markdown",
   "metadata": {},
   "source": [
    "# Q3"
   ]
  },
  {
   "cell_type": "code",
   "execution_count": null,
   "metadata": {
    "vscode": {
     "languageId": "plaintext"
    }
   },
   "outputs": [],
   "source": [
    "from itertools import permutations \n",
    "from itertools import combinations\n",
    "\n",
    "# 조합 : 6명 수강생 중 2명에게 순위 상관없이 상품을 주는 경우의 수 \n",
    "rank_com = None\n",
    "rank_com_num = None\n",
    "\n",
    "print(rank_com)\n",
    "print(rank_com_num)"
   ]
  },
  {
   "cell_type": "markdown",
   "metadata": {},
   "source": [
    "# Q4"
   ]
  },
  {
   "cell_type": "code",
   "execution_count": null,
   "metadata": {
    "vscode": {
     "languageId": "plaintext"
    }
   },
   "outputs": [],
   "source": [
    "from itertools import product\n",
    "from itertools import combinations_with_replacement\n",
    "\n",
    "# 중복순열\n",
    "\n",
    "re_per = None\n",
    "re_per_num = None\n",
    "\n",
    "print(re_per)\n",
    "print(re_per_num)"
   ]
  },
  {
   "cell_type": "markdown",
   "metadata": {},
   "source": [
    "# Q5"
   ]
  },
  {
   "cell_type": "code",
   "execution_count": null,
   "metadata": {
    "vscode": {
     "languageId": "plaintext"
    }
   },
   "outputs": [],
   "source": [
    "from itertools import product\n",
    "from itertools import combinations_with_replacement\n",
    "\n",
    "# 중복조합\n",
    "\n",
    "re_com = None\n",
    "re_com_num = None\n",
    "\n",
    "print(re_com)\n",
    "print(re_com_num)"
   ]
  },
  {
   "cell_type": "markdown",
   "metadata": {},
   "source": [
    "# Q6"
   ]
  },
  {
   "cell_type": "code",
   "execution_count": null,
   "metadata": {
    "vscode": {
     "languageId": "plaintext"
    }
   },
   "outputs": [],
   "source": [
    "import random\n",
    "answer_Q1andQ2 = 0\n",
    "answer_Q2 = 0\n",
    "answer_Q1orQ2 = 0\n",
    "random.seed(4)\n",
    "\n",
    "# 함수 정의 \n",
    "def random_answer():\n",
    "    return \n",
    "    \n",
    "\n",
    "\n",
    "# 30명의 응답 결과\n",
    "\n",
    "\n",
    "\n",
    "\n",
    "\n",
    "# 조건부 확률과 독립\n",
    "print( \"P(B|A):\", )\n",
    "print( \"P(B|O):\", )"
   ]
  },
  {
   "cell_type": "markdown",
   "metadata": {},
   "source": [
    "# Q7"
   ]
  },
  {
   "cell_type": "code",
   "execution_count": null,
   "metadata": {
    "vscode": {
     "languageId": "plaintext"
    }
   },
   "outputs": [],
   "source": [
    "from sympy.stats import given, density, Die\n",
    "\n",
    "## Q1. 6개의 면이 있는 주사위 생성\n",
    "Die6 = \n",
    "Die6_dict = \n",
    "print(Die6)\n",
    "print(Die6_dict)\n",
    "\n",
    "\n",
    "## Q2. 3 초과의 면만 나오는 조건을 가진 주사위 생성\n",
    "condi = \n",
    "condi_dict = \n",
    "print(condi)\n",
    "print(condi_dict)\n"
   ]
  },
  {
   "cell_type": "markdown",
   "metadata": {},
   "source": [
    "# Q8"
   ]
  },
  {
   "cell_type": "code",
   "execution_count": null,
   "metadata": {
    "vscode": {
     "languageId": "plaintext"
    }
   },
   "outputs": [],
   "source": [
    "import numpy as np \n",
    "import matplotlib.pyplot as plt\n",
    "import scipy as sp\n",
    "from scipy import stats\n",
    "\n",
    "\n",
    "# Q1. 이항분포pmf 그리기 \n",
    "# 이항분포 생성\n",
    "n, p = \n",
    "stat_bin = \n",
    "\n",
    "# 그리기\n",
    "fig, ax = plt.subplots()\n",
    "## pmf를 만드는 코드를 작성해 주세요\n",
    "x_axis = np.arange(n + 1) \n",
    "plt.bar()\n",
    "\n",
    "\n",
    "##\n",
    "plt.show()\n",
    "fig.savefig(\"pmf_plot.png\")\n",
    "\n",
    "\n",
    "# Q2. 이항분포cdf 그리기 \n",
    "## cdf 만드는 코드를 작성해 주세요\n",
    "x_axis = np.arange(n + 1) \n",
    "plt.bar()\n",
    "\n",
    "\n",
    "##\n",
    "plt.show()\n",
    "fig.savefig(\"cdf_plot.png\")\n",
    "\n",
    "\n",
    "\n",
    "# Q3. 랜덤표본 추출\n",
    "## seed 설정 seed = 0 \n",
    "\n",
    "\n",
    "## 랜덤 샘플 추출\n",
    "random_bin = \n",
    "print(random_bin)\n",
    "## 평균계산\n",
    "bin_mean = \n",
    "print(bin_mean)\n"
   ]
  },
  {
   "cell_type": "markdown",
   "metadata": {},
   "source": [
    "# Q9"
   ]
  },
  {
   "cell_type": "code",
   "execution_count": null,
   "metadata": {
    "vscode": {
     "languageId": "plaintext"
    }
   },
   "outputs": [],
   "source": [
    "import numpy as np \n",
    "import matplotlib.pyplot as plt\n",
    "import scipy as sp\n",
    "from scipy import stats\n",
    "\n",
    "\n",
    "# 초기하분포\n",
    "[M, n, N] = [,,]\n",
    "stat_hyp = \n",
    "\n",
    "# 그리기\n",
    "fig, ax = plt.subplots()\n",
    "## pmf를 만드는 코드를 작성해 주세요\n",
    "x_axis = np.arange(n + 1) \n",
    "plt.bar()\n",
    "\n",
    "\n",
    "##\n",
    "plt.show()\n",
    "fig.savefig(\"pmf_plot.png\")\n",
    "\n",
    "\n",
    "# Q2. 초기하분포 cdf 그리기 \n",
    "## cdf 만드는 코드를 작성해 주세요\n",
    "x_axis = np.arange(n + 1) \n",
    "plt.bar()\n",
    "\n",
    "\n",
    "##\n",
    "plt.show()\n",
    "fig.savefig(\"cdf_plot.png\")\n",
    "\n",
    "\n",
    "# Q3. 랜덤표본 추출\n",
    "## seed 설정 seed = 0 \n",
    "\n",
    "\n",
    "## 랜덤 샘플 추출\n",
    "random_hyp = \n",
    "print(random_hyp)\n",
    "## 평균계산\n",
    "hyp_mean = \n",
    "print(hyp_mean)\n"
   ]
  },
  {
   "cell_type": "markdown",
   "metadata": {},
   "source": [
    "# Q10"
   ]
  },
  {
   "cell_type": "code",
   "execution_count": null,
   "metadata": {
    "vscode": {
     "languageId": "plaintext"
    }
   },
   "outputs": [],
   "source": [
    "import numpy as np \n",
    "import matplotlib.pyplot as plt\n",
    "import scipy as sp\n",
    "from scipy import stats\n",
    "\n",
    "\n",
    "# 균일분포\n",
    "stat_uni = \n",
    "\n",
    "# 그리기\n",
    "fig, ax = plt.subplots()\n",
    "## pdf를 만드는 코드를 작성해 주세요\n",
    "x_axis = np.linspace(0, 1, 100)\n",
    "plt.bar()\n",
    "\n",
    "\n",
    "##\n",
    "plt.show()\n",
    "fig.savefig(\"pdf_plot.png\")\n",
    "\n",
    "\n",
    "# Q2. 균일분포 cdf 그리기 \n",
    "## cdf 만드는 코드를 작성해 주세요\n",
    "x_axis = np.linspace(0, 1, 100) \n",
    "plt.bar()\n",
    "\n",
    "\n",
    "##\n",
    "plt.show()\n",
    "fig.savefig(\"cdf_plot.png\")\n",
    "\n",
    "\n",
    "# Q3. 균일분포 샘플링\n",
    "## seed 설정\n",
    "\n",
    "\n",
    "## 샘플 추출\n",
    "random_uni = \n",
    "print(random_uni) \n",
    "\n",
    "## 평균 계산\n",
    "uni_mean = \n",
    "print(uni_mean)\n"
   ]
  },
  {
   "cell_type": "markdown",
   "metadata": {},
   "source": [
    "# Q11"
   ]
  },
  {
   "cell_type": "code",
   "execution_count": null,
   "metadata": {
    "vscode": {
     "languageId": "plaintext"
    }
   },
   "outputs": [],
   "source": [
    "import numpy as np \n",
    "import matplotlib.pyplot as plt\n",
    "import scipy as sp\n",
    "from scipy import stats\n",
    " \n",
    "\n",
    "# 정규분포\n",
    "stat_nor = \n",
    "\n",
    "# Q1. 정규분포 pdf 그리기\n",
    "fig, ax = plt.subplots()\n",
    "## pdf를 만드는 코드를 작성해 주세요\n",
    "x_axis = np.linspace(-3, 3, 100)\n",
    "plt.bar()\n",
    "\n",
    "\n",
    "##\n",
    "plt.show()\n",
    "fig.savefig(\"pdf_plot.png\")\n",
    "\n",
    "\n",
    "# Q2. 정규분포 cdf 그리기 \n",
    "## cdf 만드는 코드를 작성해 주세요\n",
    "x_axis = np.linspace(-3, 3, 100)\n",
    "plt.bar()\n",
    "\n",
    "\n",
    "##\n",
    "plt.show()\n",
    "fig.savefig(\"cdf_plot.png\")\n",
    "\n",
    "\n",
    "# Q3. 정규분포 샘플링\n",
    "## seed 설정\n",
    "\n",
    "\n",
    "## 샘플 추출\n",
    "random_nor = \n",
    "print(random_nor) \n",
    "\n",
    "## 평균 계산\n",
    "nor_mean = \n",
    "print(nor_mean)\n"
   ]
  },
  {
   "cell_type": "markdown",
   "metadata": {},
   "source": [
    "# Q12"
   ]
  },
  {
   "cell_type": "code",
   "execution_count": null,
   "metadata": {
    "vscode": {
     "languageId": "plaintext"
    }
   },
   "outputs": [],
   "source": [
    "import numpy as np \n",
    "import scipy as sp\n",
    "from scipy import stats\n",
    "\n",
    "# 이항 검정\n",
    "## 1) seed 설정 seed = 0\n",
    "\n",
    "## 2) 샘플 추출\n",
    "random_ber = \n",
    "print(random_ber)\n",
    "\n",
    "n_ber = \n",
    "print(n_ber)\n",
    "\n",
    "## 3) 가설 검정\n",
    "binom_test = \n",
    "print(binom_test)\n"
   ]
  },
  {
   "cell_type": "markdown",
   "metadata": {},
   "source": [
    "# Q13"
   ]
  },
  {
   "cell_type": "code",
   "execution_count": null,
   "metadata": {
    "vscode": {
     "languageId": "plaintext"
    }
   },
   "outputs": [],
   "source": [
    "import numpy as np \n",
    "import scipy as sp\n",
    "from scipy import stats\n",
    "\n",
    "# 모평균 가설검정\n",
    "## 1) seed 설정 seed = 0\n",
    "\n",
    "## 2) 샘플 추출\n",
    "random_nor = \n",
    "print(random_nor)\n",
    "\n",
    "# 평균 계산\n",
    "nor_mean = \n",
    "print(nor_mean)\n",
    "\n",
    "## 3) 모평균 가설 검정 함수 정의\n",
    "def ztest(stat, mu, sigma):\n",
    "    z = \n",
    "    return()\n",
    "\n",
    "## 4) 모평균 가설 검정\n",
    "mu_test = \n",
    "print(mu_test)"
   ]
  }
 ],
 "metadata": {
  "language_info": {
   "name": "python"
  }
 },
 "nbformat": 4,
 "nbformat_minor": 2
}
