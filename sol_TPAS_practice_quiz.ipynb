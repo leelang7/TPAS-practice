{
 "cells": [
  {
   "cell_type": "markdown",
   "metadata": {},
   "source": [
    "# Q1"
   ]
  },
  {
   "cell_type": "code",
   "execution_count": 1,
   "metadata": {},
   "outputs": [
    {
     "name": "stdout",
     "output_type": "stream",
     "text": [
      "24\n"
     ]
    }
   ],
   "source": [
    "# ! 함수 정의 \n",
    "def fac(n): \n",
    "    \n",
    "    if n == 0 :\n",
    "        return 1\n",
    "    \n",
    "    return n * fac(n-1)\n",
    "    \n",
    "# 4! 계산\n",
    "print(fac(4))"
   ]
  },
  {
   "cell_type": "markdown",
   "metadata": {},
   "source": [
    "# Q2"
   ]
  },
  {
   "cell_type": "code",
   "execution_count": 2,
   "metadata": {},
   "outputs": [
    {
     "name": "stdout",
     "output_type": "stream",
     "text": [
      "[('가', '나'), ('가', '다'), ('가', '라'), ('가', '마'), ('가', '바'), ('나', '가'), ('나', '다'), ('나', '라'), ('나', '마'), ('나', '바'), ('다', '가'), ('다', '나'), ('다', '라'), ('다', '마'), ('다', '바'), ('라', '가'), ('라', '나'), ('라', '다'), ('라', '마'), ('라', '바'), ('마', '가'), ('마', '나'), ('마', '다'), ('마', '라'), ('마', '바'), ('바', '가'), ('바', '나'), ('바', '다'), ('바', '라'), ('바', '마')]\n",
      "30\n"
     ]
    }
   ],
   "source": [
    "from itertools import permutations \n",
    "from itertools import combinations\n",
    "\n",
    "# 순열 : 6명 수강생 중 4명에게 순위별 상품을 주는 경우의 수 \n",
    "rank_per = list(permutations([\"가\",\"나\",\"다\",\"라\",\"마\",\"바\"],2))\n",
    "rank_per_num = len(rank_per)\n",
    "print(rank_per)\n",
    "print(rank_per_num)"
   ]
  },
  {
   "cell_type": "markdown",
   "metadata": {},
   "source": [
    "# Q3"
   ]
  },
  {
   "cell_type": "code",
   "execution_count": 3,
   "metadata": {},
   "outputs": [
    {
     "name": "stdout",
     "output_type": "stream",
     "text": [
      "[('가', '나'), ('가', '다'), ('가', '라'), ('가', '마'), ('가', '바'), ('나', '가'), ('나', '다'), ('나', '라'), ('나', '마'), ('나', '바'), ('다', '가'), ('다', '나'), ('다', '라'), ('다', '마'), ('다', '바'), ('라', '가'), ('라', '나'), ('라', '다'), ('라', '마'), ('라', '바'), ('마', '가'), ('마', '나'), ('마', '다'), ('마', '라'), ('마', '바'), ('바', '가'), ('바', '나'), ('바', '다'), ('바', '라'), ('바', '마')]\n",
      "30\n",
      "[('가', '나'), ('가', '다'), ('가', '라'), ('가', '마'), ('가', '바'), ('나', '다'), ('나', '라'), ('나', '마'), ('나', '바'), ('다', '라'), ('다', '마'), ('다', '바'), ('라', '마'), ('라', '바'), ('마', '바')]\n",
      "15\n"
     ]
    }
   ],
   "source": [
    "from itertools import permutations \n",
    "from itertools import combinations\n",
    "\n",
    "# Q1. 순열 : 6명 수강생 중 4명에게 순위별 상품을 주는 경우의 수 \n",
    "rank_per = list(permutations([\"가\",\"나\",\"다\",\"라\",\"마\",\"바\"],2))\n",
    "rank_per_num = len(rank_per)\n",
    "print(rank_per)\n",
    "print(rank_per_num)\n",
    "\n",
    "# Q2. 조합 : 6명 수강생 중 2명에게 순위 상관없이 상품을 주는 경우의 수 \n",
    "rank_com = list(combinations([\"가\",\"나\",\"다\",\"라\",\"마\",\"바\"],2))\n",
    "rank_com_num = len(rank_com)\n",
    "\n",
    "print(rank_com)\n",
    "print(rank_com_num)"
   ]
  },
  {
   "cell_type": "markdown",
   "metadata": {},
   "source": [
    "# Q4"
   ]
  },
  {
   "cell_type": "code",
   "execution_count": 4,
   "metadata": {},
   "outputs": [
    {
     "name": "stdout",
     "output_type": "stream",
     "text": [
      "[('A', 'A', 'A'), ('A', 'A', 'B'), ('A', 'A', 'C'), ('A', 'A', 'D'), ('A', 'A', 'E'), ('A', 'B', 'A'), ('A', 'B', 'B'), ('A', 'B', 'C'), ('A', 'B', 'D'), ('A', 'B', 'E'), ('A', 'C', 'A'), ('A', 'C', 'B'), ('A', 'C', 'C'), ('A', 'C', 'D'), ('A', 'C', 'E'), ('A', 'D', 'A'), ('A', 'D', 'B'), ('A', 'D', 'C'), ('A', 'D', 'D'), ('A', 'D', 'E'), ('A', 'E', 'A'), ('A', 'E', 'B'), ('A', 'E', 'C'), ('A', 'E', 'D'), ('A', 'E', 'E'), ('B', 'A', 'A'), ('B', 'A', 'B'), ('B', 'A', 'C'), ('B', 'A', 'D'), ('B', 'A', 'E'), ('B', 'B', 'A'), ('B', 'B', 'B'), ('B', 'B', 'C'), ('B', 'B', 'D'), ('B', 'B', 'E'), ('B', 'C', 'A'), ('B', 'C', 'B'), ('B', 'C', 'C'), ('B', 'C', 'D'), ('B', 'C', 'E'), ('B', 'D', 'A'), ('B', 'D', 'B'), ('B', 'D', 'C'), ('B', 'D', 'D'), ('B', 'D', 'E'), ('B', 'E', 'A'), ('B', 'E', 'B'), ('B', 'E', 'C'), ('B', 'E', 'D'), ('B', 'E', 'E'), ('C', 'A', 'A'), ('C', 'A', 'B'), ('C', 'A', 'C'), ('C', 'A', 'D'), ('C', 'A', 'E'), ('C', 'B', 'A'), ('C', 'B', 'B'), ('C', 'B', 'C'), ('C', 'B', 'D'), ('C', 'B', 'E'), ('C', 'C', 'A'), ('C', 'C', 'B'), ('C', 'C', 'C'), ('C', 'C', 'D'), ('C', 'C', 'E'), ('C', 'D', 'A'), ('C', 'D', 'B'), ('C', 'D', 'C'), ('C', 'D', 'D'), ('C', 'D', 'E'), ('C', 'E', 'A'), ('C', 'E', 'B'), ('C', 'E', 'C'), ('C', 'E', 'D'), ('C', 'E', 'E'), ('D', 'A', 'A'), ('D', 'A', 'B'), ('D', 'A', 'C'), ('D', 'A', 'D'), ('D', 'A', 'E'), ('D', 'B', 'A'), ('D', 'B', 'B'), ('D', 'B', 'C'), ('D', 'B', 'D'), ('D', 'B', 'E'), ('D', 'C', 'A'), ('D', 'C', 'B'), ('D', 'C', 'C'), ('D', 'C', 'D'), ('D', 'C', 'E'), ('D', 'D', 'A'), ('D', 'D', 'B'), ('D', 'D', 'C'), ('D', 'D', 'D'), ('D', 'D', 'E'), ('D', 'E', 'A'), ('D', 'E', 'B'), ('D', 'E', 'C'), ('D', 'E', 'D'), ('D', 'E', 'E'), ('E', 'A', 'A'), ('E', 'A', 'B'), ('E', 'A', 'C'), ('E', 'A', 'D'), ('E', 'A', 'E'), ('E', 'B', 'A'), ('E', 'B', 'B'), ('E', 'B', 'C'), ('E', 'B', 'D'), ('E', 'B', 'E'), ('E', 'C', 'A'), ('E', 'C', 'B'), ('E', 'C', 'C'), ('E', 'C', 'D'), ('E', 'C', 'E'), ('E', 'D', 'A'), ('E', 'D', 'B'), ('E', 'D', 'C'), ('E', 'D', 'D'), ('E', 'D', 'E'), ('E', 'E', 'A'), ('E', 'E', 'B'), ('E', 'E', 'C'), ('E', 'E', 'D'), ('E', 'E', 'E')]\n",
      "125\n"
     ]
    }
   ],
   "source": [
    "from itertools import product\n",
    "from itertools import combinations_with_replacement\n",
    "\n",
    "# 중복순열\n",
    "re_per = list(product(['A', 'B','C','D','E'], repeat = 3))\n",
    "re_per_num = len(re_per)\n",
    "\n",
    "print(re_per)\n",
    "print(re_per_num)"
   ]
  },
  {
   "cell_type": "markdown",
   "metadata": {},
   "source": [
    "# Q5"
   ]
  },
  {
   "cell_type": "code",
   "execution_count": 5,
   "metadata": {},
   "outputs": [
    {
     "name": "stdout",
     "output_type": "stream",
     "text": [
      "[('A', 'A', 'A'), ('A', 'A', 'B'), ('A', 'A', 'C'), ('A', 'A', 'D'), ('A', 'A', 'E'), ('A', 'B', 'B'), ('A', 'B', 'C'), ('A', 'B', 'D'), ('A', 'B', 'E'), ('A', 'C', 'C'), ('A', 'C', 'D'), ('A', 'C', 'E'), ('A', 'D', 'D'), ('A', 'D', 'E'), ('A', 'E', 'E'), ('B', 'B', 'B'), ('B', 'B', 'C'), ('B', 'B', 'D'), ('B', 'B', 'E'), ('B', 'C', 'C'), ('B', 'C', 'D'), ('B', 'C', 'E'), ('B', 'D', 'D'), ('B', 'D', 'E'), ('B', 'E', 'E'), ('C', 'C', 'C'), ('C', 'C', 'D'), ('C', 'C', 'E'), ('C', 'D', 'D'), ('C', 'D', 'E'), ('C', 'E', 'E'), ('D', 'D', 'D'), ('D', 'D', 'E'), ('D', 'E', 'E'), ('E', 'E', 'E')]\n",
      "35\n"
     ]
    }
   ],
   "source": [
    "from itertools import product\n",
    "from itertools import combinations_with_replacement\n",
    "\n",
    "# 중복조합\n",
    "re_com = list(combinations_with_replacement(['A','B','C','D','E'], 3))\n",
    "re_com_num = len(re_com)\n",
    "\n",
    "print(re_com)\n",
    "print(re_com_num)"
   ]
  },
  {
   "cell_type": "markdown",
   "metadata": {},
   "source": [
    "# Q6"
   ]
  },
  {
   "cell_type": "code",
   "execution_count": 6,
   "metadata": {},
   "outputs": [
    {
     "name": "stdout",
     "output_type": "stream",
     "text": [
      "P(Q1 and Q2 | Q2 ): 0.5\n",
      "P(Q1 and Q2 | Q1 or Q2 ): 0.3181818181818182\n"
     ]
    }
   ],
   "source": [
    "import random\n",
    "\n",
    "answer_Q1andQ2 = 0\n",
    "answer_Q2 = 0\n",
    "answer_Q1orQ2 = 0\n",
    "random.seed(4)\n",
    "\n",
    "# 함수 정의 \n",
    "def random_answer():\n",
    "    return random.choice([\"A\", \"B\"])\n",
    "    \n",
    "# 30명의 응답 결과\n",
    "for i in range(30):\n",
    "    Q1 = random_answer()\n",
    "    Q2 = random_answer()\n",
    "    if Q2 == \"A\":\n",
    "        answer_Q2 += 1\n",
    "    if Q2 == \"A\" and Q1 == \"A\":\n",
    "        answer_Q1andQ2 += 1\n",
    "    if Q2 == \"A\" or Q1 == \"A\":\n",
    "        answer_Q1orQ2 += 1\n",
    "\n",
    "# 조건부 확률과 독립\n",
    "print( \"P(Q1 and Q2 | Q2 ):\", answer_Q1andQ2/answer_Q2)\n",
    "print( \"P(Q1 and Q2 | Q1 or Q2 ):\", answer_Q1andQ2/answer_Q1orQ2)"
   ]
  },
  {
   "cell_type": "markdown",
   "metadata": {},
   "source": [
    "# Q7"
   ]
  },
  {
   "cell_type": "code",
   "execution_count": null,
   "metadata": {},
   "outputs": [],
   "source": [
    "# 외부라이브러리 sympy 설치 \n",
    "#!pip install sympy"
   ]
  },
  {
   "cell_type": "code",
   "execution_count": 7,
   "metadata": {},
   "outputs": [
    {
     "name": "stdout",
     "output_type": "stream",
     "text": [
      "Die6\n",
      "{1: 1/6, 2: 1/6, 3: 1/6, 4: 1/6, 5: 1/6, 6: 1/6}\n",
      "Die6\n",
      "{4: 1/3, 5: 1/3, 6: 1/3}\n"
     ]
    }
   ],
   "source": [
    "from sympy.stats import given, density, Die\n",
    "\n",
    "## Q1. 6개의 면이 있는 주사위 생성\n",
    "Die6 = Die('Die6', 6)\n",
    "Die6_dict = density(Die6).dict\n",
    "print(Die6)\n",
    "print(Die6_dict)\n",
    "\n",
    "\n",
    "## Q2. 3 초과의 면만 나오는 조건을 가진 주사위 생성\n",
    "condi = given(Die6, Die6 > 3)\n",
    "condi_dict = density(condi).dict\n",
    "print(condi)\n",
    "print(condi_dict)"
   ]
  },
  {
   "cell_type": "markdown",
   "metadata": {},
   "source": [
    "# Q8"
   ]
  },
  {
   "cell_type": "code",
   "execution_count": null,
   "metadata": {},
   "outputs": [
    {
     "data": {
      "image/png": "[encoded data removed]",
      "text/plain": [
       "<Figure size 640x480 with 1 Axes>"
      ]
     },
     "metadata": {},
     "output_type": "display_data"
    },
    {
     "data": {
      "image/png": "[encoded data removed]",
      "text/plain": [
       "<Figure size 640x480 with 1 Axes>"
      ]
     },
     "metadata": {},
     "output_type": "display_data"
    },
    {
     "name": "stdout",
     "output_type": "stream",
     "text": [
      "[3 4 3 3 3 3 3 5 6 3 4 3 3 5 1 1 0 4 4 5 6 4 3 4 1 3 1 5 3 3 2 4 3 3 0 3 3\n",
      " 3 5 4 2 3 4 1 4 4 2 1 2 2]\n",
      "3.08\n"
     ]
    }
   ],
   "source": [
    "import numpy as np \n",
    "import matplotlib.pyplot as plt\n",
    "import scipy as sp\n",
    "from scipy import stats\n",
    "\n",
    "\n",
    "# Q1. 이항분포 pmf 그리기 \n",
    "# 이항분포 생성\n",
    "n, p = 10,  0.3\n",
    "stat_bin = sp.stats.binom(n, p)\n",
    "\n",
    "# 그리기\n",
    "fig, ax = plt.subplots()\n",
    "## pmf를 만드는 코드를 작성해 주세요\n",
    "x_axis = np.arange(n + 1) \n",
    "plt.bar(x_axis, stat_bin.pmf(x_axis)) # 확률질량함수\n",
    "\n",
    "\n",
    "##\n",
    "plt.show()\n",
    "fig.savefig(\"pmf_plot.png\")\n",
    "\n",
    "\n",
    "# Q2. 이항분포cdf 그리기 \n",
    "## cdf 만드는 코드를 작성해 주세요\n",
    "x_axis = np.arange(n + 1) \n",
    "plt.bar(x_axis, stat_bin.cdf(x_axis)) # 누적밀도함수\n",
    "\n",
    "##\n",
    "plt.show()\n",
    "fig.savefig(\"cdf_plot.png\")\n",
    "\n",
    "\n",
    "# Q3. 랜덤표본 추출\n",
    "## seed 설정 seed = 0 \n",
    "np.random.seed(seed = 0)\n",
    "\n",
    "## 랜덤 샘플 추출\n",
    "random_bin = np.random.binomial(n = 10, p= 0.3, size = 50)\n",
    "print(random_bin)\n",
    "\n",
    "## 평균계산\n",
    "bin_mean = np.mean(random_bin)\n",
    "print(bin_mean)"
   ]
  },
  {
   "cell_type": "markdown",
   "metadata": {},
   "source": [
    "# Q9"
   ]
  },
  {
   "cell_type": "code",
   "execution_count": null,
   "metadata": {},
   "outputs": [
    {
     "data": {
      "image/png": "[encoded data removed]",
      "text/plain": [
       "<Figure size 640x480 with 1 Axes>"
      ]
     },
     "metadata": {},
     "output_type": "display_data"
    },
    {
     "data": {
      "image/png": "[encoded data removed]",
      "text/plain": [
       "<Figure size 640x480 with 1 Axes>"
      ]
     },
     "metadata": {},
     "output_type": "display_data"
    },
    {
     "name": "stdout",
     "output_type": "stream",
     "text": [
      "[2 3 2 1 0 1 2 2 1 1 2 3 1 0 4 2 2 1 1 1 1 2 3 0 1 3 1 4 2 4 1 1 0 0 1 1 3\n",
      " 2 3 2 2 0 3 0 4 3 1 5 2 1]\n",
      "1.76\n"
     ]
    }
   ],
   "source": [
    "import numpy as np \n",
    "import matplotlib.pyplot as plt\n",
    "import scipy as sp\n",
    "from scipy import stats\n",
    "\n",
    "# 초기하분포\n",
    "[M, n, N] = [30, 5, 10]\n",
    "stat_hyp = sp.stats.hypergeom(M, n, N)\n",
    " \n",
    "\n",
    "# 그리기\n",
    "fig, ax = plt.subplots()\n",
    "## pmf를 만드는 코드를 작성해 주세요\n",
    "x_axis = np.arange(n+1)\n",
    "plt.bar(x_axis, stat_hyp.pmf(x_axis)) # 확률질량함수\n",
    "\n",
    "\n",
    "##\n",
    "plt.show()\n",
    "fig.savefig(\"q9_pmf_plot.png\")\n",
    "\n",
    "# Q2. 초기하분포 cdf 그리기 \n",
    "## cdf 만드는 코드를 작성해 주세요\n",
    "x_axis = np.arange(n+1)\n",
    "plt.bar(x_axis, stat_hyp.cdf(x_axis)) # 확률밀도함수\n",
    "\n",
    "##\n",
    "plt.show()\n",
    "fig.savefig(\"q9_cdf_plot.png\")\n",
    "\n",
    "# Q3. 랜덤표본 추출\n",
    "## seed 설정 seed = 0 \n",
    "np.random.seed(seed = 0)\n",
    "\n",
    "## 랜덤 샘플 추출\n",
    "random_hyp = np.random.hypergeometric(ngood = 5, nbad= 25, nsample=10, size = 50)\n",
    "print(random_hyp)\n",
    "\n",
    "## 평균계산\n",
    "hyp_mean = np.mean(random_hyp)\n",
    "print(hyp_mean)"
   ]
  },
  {
   "cell_type": "markdown",
   "metadata": {},
   "source": [
    "# Q10"
   ]
  },
  {
   "cell_type": "code",
   "execution_count": 11,
   "metadata": {},
   "outputs": [
    {
     "data": {
      "image/png": "[encoded data removed]",
      "text/plain": [
       "<Figure size 640x480 with 1 Axes>"
      ]
     },
     "metadata": {},
     "output_type": "display_data"
    },
    {
     "data": {
      "image/png": "[encoded data removed]",
      "text/plain": [
       "<Figure size 640x480 with 1 Axes>"
      ]
     },
     "metadata": {},
     "output_type": "display_data"
    },
    {
     "name": "stdout",
     "output_type": "stream",
     "text": [
      "[0.5488135  0.71518937 0.60276338 0.54488318 0.4236548  0.64589411\n",
      " 0.43758721 0.891773   0.96366276 0.38344152 0.79172504 0.52889492\n",
      " 0.56804456 0.92559664 0.07103606 0.0871293  0.0202184  0.83261985\n",
      " 0.77815675 0.87001215 0.97861834 0.79915856 0.46147936 0.78052918\n",
      " 0.11827443 0.63992102 0.14335329 0.94466892 0.52184832 0.41466194\n",
      " 0.26455561 0.77423369 0.45615033 0.56843395 0.0187898  0.6176355\n",
      " 0.61209572 0.616934   0.94374808 0.6818203  0.3595079  0.43703195\n",
      " 0.6976312  0.06022547 0.66676672 0.67063787 0.21038256 0.1289263\n",
      " 0.31542835 0.36371077 0.57019677 0.43860151 0.98837384 0.10204481\n",
      " 0.20887676 0.16130952 0.65310833 0.2532916  0.46631077 0.24442559\n",
      " 0.15896958 0.11037514 0.65632959 0.13818295 0.19658236 0.36872517\n",
      " 0.82099323 0.09710128 0.83794491 0.09609841 0.97645947 0.4686512\n",
      " 0.97676109 0.60484552 0.73926358 0.03918779 0.28280696 0.12019656\n",
      " 0.2961402  0.11872772 0.31798318 0.41426299 0.0641475  0.69247212\n",
      " 0.56660145 0.26538949 0.52324805 0.09394051 0.5759465  0.9292962\n",
      " 0.31856895 0.66741038 0.13179786 0.7163272  0.28940609 0.18319136\n",
      " 0.58651293 0.02010755 0.82894003 0.00469548]\n",
      "0.4727938395125177\n"
     ]
    }
   ],
   "source": [
    "import numpy as np \n",
    "import matplotlib.pyplot as plt\n",
    "import scipy as sp\n",
    "from scipy import stats\n",
    "\n",
    "\n",
    "# 균일분포\n",
    "stat_uni = sp.stats.uniform(0,1)\n",
    "\n",
    "# 그리기\n",
    "fig, ax = plt.subplots()\n",
    "## pdf를 만드는 코드를 작성해 주세요\n",
    "x_axis = np.linspace(0, 1, 100)\n",
    "plt.bar(x_axis, stat_uni.pdf(x_axis))\n",
    "\n",
    "\n",
    "##\n",
    "plt.show()\n",
    "fig.savefig(\"q10_pdf_plot.png\")\n",
    "\n",
    "\n",
    "# Q2. 균일분포 cdf 그리기 \n",
    "## cdf 만드는 코드를 작성해 주세요\n",
    "x_axis = np.linspace(0, 1, 100)\n",
    "plt.bar(x_axis, stat_uni.cdf(x_axis))\n",
    "\n",
    "##\n",
    "plt.show()\n",
    "fig.savefig(\"q10_cdf_plot.png\")\n",
    "\n",
    "\n",
    "# Q3. 균일분포 샘플링\n",
    "## seed 설정\n",
    "np.random.seed(seed = 0)\n",
    "\n",
    "## 샘플 추출\n",
    "random_uni = np.random.uniform(0,1,100)\n",
    "print(random_uni) \n",
    "\n",
    "## 평균 계산\n",
    "uni_mean = np.mean(random_uni)\n",
    "print(uni_mean)"
   ]
  },
  {
   "cell_type": "markdown",
   "metadata": {},
   "source": [
    "# Q11"
   ]
  },
  {
   "cell_type": "code",
   "execution_count": 12,
   "metadata": {},
   "outputs": [
    {
     "data": {
      "image/png": "[encoded data removed]",
      "text/plain": [
       "<Figure size 640x480 with 1 Axes>"
      ]
     },
     "metadata": {},
     "output_type": "display_data"
    },
    {
     "data": {
      "image/png": "[encoded data removed]",
      "text/plain": [
       "<Figure size 640x480 with 1 Axes>"
      ]
     },
     "metadata": {},
     "output_type": "display_data"
    },
    {
     "name": "stdout",
     "output_type": "stream",
     "text": [
      "[ 1.76405235  0.40015721  0.97873798  2.2408932   1.86755799 -0.97727788\n",
      "  0.95008842 -0.15135721 -0.10321885  0.4105985   0.14404357  1.45427351\n",
      "  0.76103773  0.12167502  0.44386323  0.33367433  1.49407907 -0.20515826\n",
      "  0.3130677  -0.85409574 -2.55298982  0.6536186   0.8644362  -0.74216502\n",
      "  2.26975462 -1.45436567  0.04575852 -0.18718385  1.53277921  1.46935877\n",
      "  0.15494743  0.37816252 -0.88778575 -1.98079647 -0.34791215  0.15634897\n",
      "  1.23029068  1.20237985 -0.38732682 -0.30230275 -1.04855297 -1.42001794\n",
      " -1.70627019  1.9507754  -0.50965218 -0.4380743  -1.25279536  0.77749036\n",
      " -1.61389785 -0.21274028 -0.89546656  0.3869025  -0.51080514 -1.18063218\n",
      " -0.02818223  0.42833187  0.06651722  0.3024719  -0.63432209 -0.36274117\n",
      " -0.67246045 -0.35955316 -0.81314628 -1.7262826   0.17742614 -0.40178094\n",
      " -1.63019835  0.46278226 -0.90729836  0.0519454   0.72909056  0.12898291\n",
      "  1.13940068 -1.23482582  0.40234164 -0.68481009 -0.87079715 -0.57884966\n",
      " -0.31155253  0.05616534 -1.16514984  0.90082649  0.46566244 -1.53624369\n",
      "  1.48825219  1.89588918  1.17877957 -0.17992484 -1.07075262  1.05445173\n",
      " -0.40317695  1.22244507  0.20827498  0.97663904  0.3563664   0.70657317\n",
      "  0.01050002  1.78587049  0.12691209  0.40198936]\n",
      "0.059808015534485\n"
     ]
    }
   ],
   "source": [
    "import numpy as np \n",
    "import matplotlib.pyplot as plt\n",
    "import scipy as sp\n",
    "from scipy import stats\n",
    "\n",
    "\n",
    "# 정규분포\n",
    "stat_nor = sp.stats.norm(0,1)\n",
    "\n",
    "# Q1. 정규분포 pdf 그리기\n",
    "fig, ax = plt.subplots()\n",
    "## pdf를 만드는 코드를 작성해 주세요\n",
    "x_axis = np.linspace(-3, 3, 100)\n",
    "plt.bar(x_axis, stat_nor.pdf(x_axis))\n",
    "\n",
    "\n",
    "##\n",
    "plt.show()\n",
    "fig.savefig(\"q11_pdf_plot.png\")\n",
    "\n",
    "\n",
    "# Q2. 정규분포 cdf 그리기 \n",
    "## cdf 만드는 코드를 작성해 주세요\n",
    "x_axis = np.linspace(-3, 3, 100)\n",
    "plt.bar(x_axis, stat_nor.cdf(x_axis), color='orange')\n",
    "\n",
    "\n",
    "##\n",
    "plt.show()\n",
    "fig.savefig(\"q11_cdf_plot.png\")\n",
    "\n",
    "\n",
    "# Q3. 정규분포 샘플링\n",
    "## seed 설정\n",
    "np.random.seed(seed = 0)\n",
    "\n",
    "## 샘플 추출\n",
    "random_nor = np.random.normal(0,1,100)\n",
    "print(random_nor) \n",
    "\n",
    "## 평균 계산\n",
    "nor_mean = np.mean(random_nor)\n",
    "print(nor_mean)"
   ]
  },
  {
   "cell_type": "markdown",
   "metadata": {},
   "source": [
    "# Q12"
   ]
  },
  {
   "cell_type": "code",
   "execution_count": null,
   "metadata": {},
   "outputs": [
    {
     "name": "stdout",
     "output_type": "stream",
     "text": [
      "[1 1 1 1 0 1 0 1 1 0 1 1 1 1 0 0 0 1 1 1 1 1 0 1 0 1 0 1 1 0 0 1 0 1 0 1 1\n",
      " 1 1 1 0 0 1 0 1 1 0 0 0 0]\n",
      "30\n",
      "BinomTestResult(k=30, n=50, alternative='two-sided', statistic=0.6, pvalue=0.20263875106454066)\n"
     ]
    }
   ],
   "source": [
    "import numpy as np \n",
    "import scipy as sp\n",
    "from scipy import stats\n",
    "\n",
    "# 이항 검정\n",
    "## 1) seed 설정 seed = 0\n",
    "np.random.seed(seed = 0)\n",
    "\n",
    "## 2) 샘플 추출\n",
    "random_ber = np.random.binomial(n = 1, p=0.5, size = 50)\n",
    "print(random_ber)\n",
    "\n",
    "n_ber = np.count_nonzero(random_ber)\n",
    "print(n_ber)\n",
    "\n",
    "## 3) 가설 검정, binom_test를 binomtest로 변경\n",
    "binom_test = sp.stats.binomtest(n_ber, 50)\n",
    "print(binom_test)"
   ]
  },
  {
   "cell_type": "markdown",
   "metadata": {},
   "source": [
    "# Q13"
   ]
  },
  {
   "cell_type": "code",
   "execution_count": null,
   "metadata": {},
   "outputs": [
    {
     "name": "stdout",
     "output_type": "stream",
     "text": [
      "[117.64052346 104.00157208 109.78737984 122.40893199 118.6755799\n",
      "  90.2272212  109.50088418  98.48642792  98.96781148 104.10598502\n",
      " 101.44043571 114.54273507 107.61037725 101.21675016 104.43863233\n",
      " 103.33674327 114.94079073  97.94841736 103.13067702  91.45904261\n",
      "  74.47010184 106.53618595 108.64436199  92.5783498  122.69754624\n",
      "  85.45634325 100.45758517  98.1281615  115.32779214 114.6935877\n",
      " 101.54947426 103.7816252   91.12214252  80.19203532  96.52087851\n",
      " 101.56348969 112.30290681 112.02379849  96.12673183  96.97697249\n",
      "  89.51447035  85.79982063  82.93729809 119.50775395  94.90347818\n",
      "  95.61925698  87.4720464  107.77490356  83.86102152  97.8725972 ]\n",
      "101.40559272313098\n",
      "0.04683289629634224\n"
     ]
    }
   ],
   "source": [
    "import numpy as np \n",
    "import scipy as sp\n",
    "from scipy import stats\n",
    "\n",
    "# 모평균 가설검정\n",
    "## 1) seed 설정 seed = 0\n",
    "np.random.seed(seed = 0)\n",
    "\n",
    "## 2) 샘플 추출\n",
    "random_nor = np.random.normal(100,10,50) # 인자 변경\n",
    "print(random_nor)\n",
    "\n",
    "# 평균 계산\n",
    "nor_mean = np.mean(random_nor)\n",
    "print(nor_mean)\n",
    "\n",
    "## 3) 모평균 가설 검정 함수 정의\n",
    "def ztest(stat, mu, sigma):\n",
    "    z = (stat.mean() - mu) / (sigma / np.sqrt(len(stat)))\n",
    "    return (2 * (1-sp.stats.norm.cdf(z)))\n",
    "\n",
    "\n",
    "## 4) 모평균 가설 검정\n",
    "mu_test = ztest(random_nor, 100, 5)\n",
    "print(mu_test)"
   ]
  }
 ],
 "metadata": {
  "kernelspec": {
   "display_name": "base",
   "language": "python",
   "name": "python3"
  },
  "language_info": {
   "codemirror_mode": {
    "name": "ipython",
    "version": 3
   },
   "file_extension": ".py",
   "mimetype": "text/x-python",
   "name": "python",
   "nbconvert_exporter": "python",
   "pygments_lexer": "ipython3",
   "version": "3.11.9"
  }
 },
 "nbformat": 4,
 "nbformat_minor": 2
}
